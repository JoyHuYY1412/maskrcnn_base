{
 "cells": [
  {
   "cell_type": "code",
   "execution_count": 1,
   "metadata": {},
   "outputs": [],
   "source": [
    "import torch\n",
    "from torch import nn\n",
    "\n",
    "model_path = \"./ckps/ckp-res50-top1230-freeze2-ori/model_0000050.pth\"\n",
    "state_dict = torch.load(model_path, map_location=\"cpu\")\n",
    "model = state_dict['model']\n",
    "# trimmed_model_path = \"./ckps/ckp-base270_freeze2_th0_300/model_0042000_for_finetune_960.pth\"\n",
    "# /mnt/data-disk0/xinting/LVIS/maskrcnn-benchmark/ckp-fewshot-novel"
   ]
  },
  {
   "cell_type": "code",
   "execution_count": 2,
   "metadata": {
    "scrolled": false
   },
   "outputs": [
    {
     "data": {
      "text/plain": [
       "odict_keys(['module.backbone.body.stem.conv1.weight', 'module.backbone.body.stem.bn1.weight', 'module.backbone.body.stem.bn1.bias', 'module.backbone.body.stem.bn1.running_mean', 'module.backbone.body.stem.bn1.running_var', 'module.backbone.body.layer1.0.downsample.0.weight', 'module.backbone.body.layer1.0.downsample.1.weight', 'module.backbone.body.layer1.0.downsample.1.bias', 'module.backbone.body.layer1.0.downsample.1.running_mean', 'module.backbone.body.layer1.0.downsample.1.running_var', 'module.backbone.body.layer1.0.conv1.weight', 'module.backbone.body.layer1.0.bn1.weight', 'module.backbone.body.layer1.0.bn1.bias', 'module.backbone.body.layer1.0.bn1.running_mean', 'module.backbone.body.layer1.0.bn1.running_var', 'module.backbone.body.layer1.0.conv2.weight', 'module.backbone.body.layer1.0.bn2.weight', 'module.backbone.body.layer1.0.bn2.bias', 'module.backbone.body.layer1.0.bn2.running_mean', 'module.backbone.body.layer1.0.bn2.running_var', 'module.backbone.body.layer1.0.conv3.weight', 'module.backbone.body.layer1.0.bn3.weight', 'module.backbone.body.layer1.0.bn3.bias', 'module.backbone.body.layer1.0.bn3.running_mean', 'module.backbone.body.layer1.0.bn3.running_var', 'module.backbone.body.layer1.1.conv1.weight', 'module.backbone.body.layer1.1.bn1.weight', 'module.backbone.body.layer1.1.bn1.bias', 'module.backbone.body.layer1.1.bn1.running_mean', 'module.backbone.body.layer1.1.bn1.running_var', 'module.backbone.body.layer1.1.conv2.weight', 'module.backbone.body.layer1.1.bn2.weight', 'module.backbone.body.layer1.1.bn2.bias', 'module.backbone.body.layer1.1.bn2.running_mean', 'module.backbone.body.layer1.1.bn2.running_var', 'module.backbone.body.layer1.1.conv3.weight', 'module.backbone.body.layer1.1.bn3.weight', 'module.backbone.body.layer1.1.bn3.bias', 'module.backbone.body.layer1.1.bn3.running_mean', 'module.backbone.body.layer1.1.bn3.running_var', 'module.backbone.body.layer1.2.conv1.weight', 'module.backbone.body.layer1.2.bn1.weight', 'module.backbone.body.layer1.2.bn1.bias', 'module.backbone.body.layer1.2.bn1.running_mean', 'module.backbone.body.layer1.2.bn1.running_var', 'module.backbone.body.layer1.2.conv2.weight', 'module.backbone.body.layer1.2.bn2.weight', 'module.backbone.body.layer1.2.bn2.bias', 'module.backbone.body.layer1.2.bn2.running_mean', 'module.backbone.body.layer1.2.bn2.running_var', 'module.backbone.body.layer1.2.conv3.weight', 'module.backbone.body.layer1.2.bn3.weight', 'module.backbone.body.layer1.2.bn3.bias', 'module.backbone.body.layer1.2.bn3.running_mean', 'module.backbone.body.layer1.2.bn3.running_var', 'module.backbone.body.layer2.0.downsample.0.weight', 'module.backbone.body.layer2.0.downsample.1.weight', 'module.backbone.body.layer2.0.downsample.1.bias', 'module.backbone.body.layer2.0.downsample.1.running_mean', 'module.backbone.body.layer2.0.downsample.1.running_var', 'module.backbone.body.layer2.0.conv1.weight', 'module.backbone.body.layer2.0.bn1.weight', 'module.backbone.body.layer2.0.bn1.bias', 'module.backbone.body.layer2.0.bn1.running_mean', 'module.backbone.body.layer2.0.bn1.running_var', 'module.backbone.body.layer2.0.conv2.weight', 'module.backbone.body.layer2.0.bn2.weight', 'module.backbone.body.layer2.0.bn2.bias', 'module.backbone.body.layer2.0.bn2.running_mean', 'module.backbone.body.layer2.0.bn2.running_var', 'module.backbone.body.layer2.0.conv3.weight', 'module.backbone.body.layer2.0.bn3.weight', 'module.backbone.body.layer2.0.bn3.bias', 'module.backbone.body.layer2.0.bn3.running_mean', 'module.backbone.body.layer2.0.bn3.running_var', 'module.backbone.body.layer2.1.conv1.weight', 'module.backbone.body.layer2.1.bn1.weight', 'module.backbone.body.layer2.1.bn1.bias', 'module.backbone.body.layer2.1.bn1.running_mean', 'module.backbone.body.layer2.1.bn1.running_var', 'module.backbone.body.layer2.1.conv2.weight', 'module.backbone.body.layer2.1.bn2.weight', 'module.backbone.body.layer2.1.bn2.bias', 'module.backbone.body.layer2.1.bn2.running_mean', 'module.backbone.body.layer2.1.bn2.running_var', 'module.backbone.body.layer2.1.conv3.weight', 'module.backbone.body.layer2.1.bn3.weight', 'module.backbone.body.layer2.1.bn3.bias', 'module.backbone.body.layer2.1.bn3.running_mean', 'module.backbone.body.layer2.1.bn3.running_var', 'module.backbone.body.layer2.2.conv1.weight', 'module.backbone.body.layer2.2.bn1.weight', 'module.backbone.body.layer2.2.bn1.bias', 'module.backbone.body.layer2.2.bn1.running_mean', 'module.backbone.body.layer2.2.bn1.running_var', 'module.backbone.body.layer2.2.conv2.weight', 'module.backbone.body.layer2.2.bn2.weight', 'module.backbone.body.layer2.2.bn2.bias', 'module.backbone.body.layer2.2.bn2.running_mean', 'module.backbone.body.layer2.2.bn2.running_var', 'module.backbone.body.layer2.2.conv3.weight', 'module.backbone.body.layer2.2.bn3.weight', 'module.backbone.body.layer2.2.bn3.bias', 'module.backbone.body.layer2.2.bn3.running_mean', 'module.backbone.body.layer2.2.bn3.running_var', 'module.backbone.body.layer2.3.conv1.weight', 'module.backbone.body.layer2.3.bn1.weight', 'module.backbone.body.layer2.3.bn1.bias', 'module.backbone.body.layer2.3.bn1.running_mean', 'module.backbone.body.layer2.3.bn1.running_var', 'module.backbone.body.layer2.3.conv2.weight', 'module.backbone.body.layer2.3.bn2.weight', 'module.backbone.body.layer2.3.bn2.bias', 'module.backbone.body.layer2.3.bn2.running_mean', 'module.backbone.body.layer2.3.bn2.running_var', 'module.backbone.body.layer2.3.conv3.weight', 'module.backbone.body.layer2.3.bn3.weight', 'module.backbone.body.layer2.3.bn3.bias', 'module.backbone.body.layer2.3.bn3.running_mean', 'module.backbone.body.layer2.3.bn3.running_var', 'module.backbone.body.layer3.0.downsample.0.weight', 'module.backbone.body.layer3.0.downsample.1.weight', 'module.backbone.body.layer3.0.downsample.1.bias', 'module.backbone.body.layer3.0.downsample.1.running_mean', 'module.backbone.body.layer3.0.downsample.1.running_var', 'module.backbone.body.layer3.0.conv1.weight', 'module.backbone.body.layer3.0.bn1.weight', 'module.backbone.body.layer3.0.bn1.bias', 'module.backbone.body.layer3.0.bn1.running_mean', 'module.backbone.body.layer3.0.bn1.running_var', 'module.backbone.body.layer3.0.conv2.weight', 'module.backbone.body.layer3.0.bn2.weight', 'module.backbone.body.layer3.0.bn2.bias', 'module.backbone.body.layer3.0.bn2.running_mean', 'module.backbone.body.layer3.0.bn2.running_var', 'module.backbone.body.layer3.0.conv3.weight', 'module.backbone.body.layer3.0.bn3.weight', 'module.backbone.body.layer3.0.bn3.bias', 'module.backbone.body.layer3.0.bn3.running_mean', 'module.backbone.body.layer3.0.bn3.running_var', 'module.backbone.body.layer3.1.conv1.weight', 'module.backbone.body.layer3.1.bn1.weight', 'module.backbone.body.layer3.1.bn1.bias', 'module.backbone.body.layer3.1.bn1.running_mean', 'module.backbone.body.layer3.1.bn1.running_var', 'module.backbone.body.layer3.1.conv2.weight', 'module.backbone.body.layer3.1.bn2.weight', 'module.backbone.body.layer3.1.bn2.bias', 'module.backbone.body.layer3.1.bn2.running_mean', 'module.backbone.body.layer3.1.bn2.running_var', 'module.backbone.body.layer3.1.conv3.weight', 'module.backbone.body.layer3.1.bn3.weight', 'module.backbone.body.layer3.1.bn3.bias', 'module.backbone.body.layer3.1.bn3.running_mean', 'module.backbone.body.layer3.1.bn3.running_var', 'module.backbone.body.layer3.2.conv1.weight', 'module.backbone.body.layer3.2.bn1.weight', 'module.backbone.body.layer3.2.bn1.bias', 'module.backbone.body.layer3.2.bn1.running_mean', 'module.backbone.body.layer3.2.bn1.running_var', 'module.backbone.body.layer3.2.conv2.weight', 'module.backbone.body.layer3.2.bn2.weight', 'module.backbone.body.layer3.2.bn2.bias', 'module.backbone.body.layer3.2.bn2.running_mean', 'module.backbone.body.layer3.2.bn2.running_var', 'module.backbone.body.layer3.2.conv3.weight', 'module.backbone.body.layer3.2.bn3.weight', 'module.backbone.body.layer3.2.bn3.bias', 'module.backbone.body.layer3.2.bn3.running_mean', 'module.backbone.body.layer3.2.bn3.running_var', 'module.backbone.body.layer3.3.conv1.weight', 'module.backbone.body.layer3.3.bn1.weight', 'module.backbone.body.layer3.3.bn1.bias', 'module.backbone.body.layer3.3.bn1.running_mean', 'module.backbone.body.layer3.3.bn1.running_var', 'module.backbone.body.layer3.3.conv2.weight', 'module.backbone.body.layer3.3.bn2.weight', 'module.backbone.body.layer3.3.bn2.bias', 'module.backbone.body.layer3.3.bn2.running_mean', 'module.backbone.body.layer3.3.bn2.running_var', 'module.backbone.body.layer3.3.conv3.weight', 'module.backbone.body.layer3.3.bn3.weight', 'module.backbone.body.layer3.3.bn3.bias', 'module.backbone.body.layer3.3.bn3.running_mean', 'module.backbone.body.layer3.3.bn3.running_var', 'module.backbone.body.layer3.4.conv1.weight', 'module.backbone.body.layer3.4.bn1.weight', 'module.backbone.body.layer3.4.bn1.bias', 'module.backbone.body.layer3.4.bn1.running_mean', 'module.backbone.body.layer3.4.bn1.running_var', 'module.backbone.body.layer3.4.conv2.weight', 'module.backbone.body.layer3.4.bn2.weight', 'module.backbone.body.layer3.4.bn2.bias', 'module.backbone.body.layer3.4.bn2.running_mean', 'module.backbone.body.layer3.4.bn2.running_var', 'module.backbone.body.layer3.4.conv3.weight', 'module.backbone.body.layer3.4.bn3.weight', 'module.backbone.body.layer3.4.bn3.bias', 'module.backbone.body.layer3.4.bn3.running_mean', 'module.backbone.body.layer3.4.bn3.running_var', 'module.backbone.body.layer3.5.conv1.weight', 'module.backbone.body.layer3.5.bn1.weight', 'module.backbone.body.layer3.5.bn1.bias', 'module.backbone.body.layer3.5.bn1.running_mean', 'module.backbone.body.layer3.5.bn1.running_var', 'module.backbone.body.layer3.5.conv2.weight', 'module.backbone.body.layer3.5.bn2.weight', 'module.backbone.body.layer3.5.bn2.bias', 'module.backbone.body.layer3.5.bn2.running_mean', 'module.backbone.body.layer3.5.bn2.running_var', 'module.backbone.body.layer3.5.conv3.weight', 'module.backbone.body.layer3.5.bn3.weight', 'module.backbone.body.layer3.5.bn3.bias', 'module.backbone.body.layer3.5.bn3.running_mean', 'module.backbone.body.layer3.5.bn3.running_var', 'module.backbone.body.layer4.0.downsample.0.weight', 'module.backbone.body.layer4.0.downsample.1.weight', 'module.backbone.body.layer4.0.downsample.1.bias', 'module.backbone.body.layer4.0.downsample.1.running_mean', 'module.backbone.body.layer4.0.downsample.1.running_var', 'module.backbone.body.layer4.0.conv1.weight', 'module.backbone.body.layer4.0.bn1.weight', 'module.backbone.body.layer4.0.bn1.bias', 'module.backbone.body.layer4.0.bn1.running_mean', 'module.backbone.body.layer4.0.bn1.running_var', 'module.backbone.body.layer4.0.conv2.weight', 'module.backbone.body.layer4.0.bn2.weight', 'module.backbone.body.layer4.0.bn2.bias', 'module.backbone.body.layer4.0.bn2.running_mean', 'module.backbone.body.layer4.0.bn2.running_var', 'module.backbone.body.layer4.0.conv3.weight', 'module.backbone.body.layer4.0.bn3.weight', 'module.backbone.body.layer4.0.bn3.bias', 'module.backbone.body.layer4.0.bn3.running_mean', 'module.backbone.body.layer4.0.bn3.running_var', 'module.backbone.body.layer4.1.conv1.weight', 'module.backbone.body.layer4.1.bn1.weight', 'module.backbone.body.layer4.1.bn1.bias', 'module.backbone.body.layer4.1.bn1.running_mean', 'module.backbone.body.layer4.1.bn1.running_var', 'module.backbone.body.layer4.1.conv2.weight', 'module.backbone.body.layer4.1.bn2.weight', 'module.backbone.body.layer4.1.bn2.bias', 'module.backbone.body.layer4.1.bn2.running_mean', 'module.backbone.body.layer4.1.bn2.running_var', 'module.backbone.body.layer4.1.conv3.weight', 'module.backbone.body.layer4.1.bn3.weight', 'module.backbone.body.layer4.1.bn3.bias', 'module.backbone.body.layer4.1.bn3.running_mean', 'module.backbone.body.layer4.1.bn3.running_var', 'module.backbone.body.layer4.2.conv1.weight', 'module.backbone.body.layer4.2.bn1.weight', 'module.backbone.body.layer4.2.bn1.bias', 'module.backbone.body.layer4.2.bn1.running_mean', 'module.backbone.body.layer4.2.bn1.running_var', 'module.backbone.body.layer4.2.conv2.weight', 'module.backbone.body.layer4.2.bn2.weight', 'module.backbone.body.layer4.2.bn2.bias', 'module.backbone.body.layer4.2.bn2.running_mean', 'module.backbone.body.layer4.2.bn2.running_var', 'module.backbone.body.layer4.2.conv3.weight', 'module.backbone.body.layer4.2.bn3.weight', 'module.backbone.body.layer4.2.bn3.bias', 'module.backbone.body.layer4.2.bn3.running_mean', 'module.backbone.body.layer4.2.bn3.running_var', 'module.backbone.fpn.fpn_inner1.weight', 'module.backbone.fpn.fpn_inner1.bias', 'module.backbone.fpn.fpn_layer1.weight', 'module.backbone.fpn.fpn_layer1.bias', 'module.backbone.fpn.fpn_inner2.weight', 'module.backbone.fpn.fpn_inner2.bias', 'module.backbone.fpn.fpn_layer2.weight', 'module.backbone.fpn.fpn_layer2.bias', 'module.backbone.fpn.fpn_inner3.weight', 'module.backbone.fpn.fpn_inner3.bias', 'module.backbone.fpn.fpn_layer3.weight', 'module.backbone.fpn.fpn_layer3.bias', 'module.backbone.fpn.fpn_inner4.weight', 'module.backbone.fpn.fpn_inner4.bias', 'module.backbone.fpn.fpn_layer4.weight', 'module.backbone.fpn.fpn_layer4.bias', 'module.rpn.anchor_generator.cell_anchors.0', 'module.rpn.anchor_generator.cell_anchors.1', 'module.rpn.anchor_generator.cell_anchors.2', 'module.rpn.anchor_generator.cell_anchors.3', 'module.rpn.anchor_generator.cell_anchors.4', 'module.rpn.head.conv.weight', 'module.rpn.head.conv.bias', 'module.rpn.head.cls_logits.weight', 'module.rpn.head.cls_logits.bias', 'module.rpn.head.bbox_pred.weight', 'module.rpn.head.bbox_pred.bias', 'module.roi_heads.box.feature_extractor.fc6.weight', 'module.roi_heads.box.feature_extractor.fc6.bias', 'module.roi_heads.box.feature_extractor.fc7.weight', 'module.roi_heads.box.feature_extractor.fc7.bias', 'module.roi_heads.box.predictor.cls_score.weight', 'module.roi_heads.box.predictor.cls_score.bias', 'module.roi_heads.box.predictor.bbox_pred.weight', 'module.roi_heads.box.predictor.bbox_pred.bias', 'module.roi_heads.mask.feature_extractor.mask_fcn1.weight', 'module.roi_heads.mask.feature_extractor.mask_fcn1.bias', 'module.roi_heads.mask.feature_extractor.mask_fcn2.weight', 'module.roi_heads.mask.feature_extractor.mask_fcn2.bias', 'module.roi_heads.mask.feature_extractor.mask_fcn3.weight', 'module.roi_heads.mask.feature_extractor.mask_fcn3.bias', 'module.roi_heads.mask.feature_extractor.mask_fcn4.weight', 'module.roi_heads.mask.feature_extractor.mask_fcn4.bias', 'module.roi_heads.mask.predictor.conv5_mask.weight', 'module.roi_heads.mask.predictor.conv5_mask.bias', 'module.roi_heads.mask.predictor.mask_fcn_logits.weight', 'module.roi_heads.mask.predictor.mask_fcn_logits.bias'])"
      ]
     },
     "execution_count": 2,
     "metadata": {},
     "output_type": "execute_result"
    }
   ],
   "source": [
    "model.keys()"
   ]
  },
  {
   "cell_type": "code",
   "execution_count": 3,
   "metadata": {},
   "outputs": [],
   "source": [
    "import torchvision\n",
    "import os, sys\n",
    "import argparse\n",
    "import numpy as np\n",
    "from collections import defaultdict\n",
    "import json\n",
    "import time\n",
    "import multiprocessing\n",
    "import copy\n",
    "import os\n",
    "import os.path as osp\n",
    "# from utils import IdGenerator, id2rgb\n",
    "import pdb\n",
    "import torch\n",
    "import numpy as np"
   ]
  },
  {
   "cell_type": "code",
   "execution_count": 4,
   "metadata": {},
   "outputs": [],
   "source": [
    "eval_res = './ckps/ckp-res50-top1230-freeze2-ori/Validation/90000/lvis_result_percat_mAP.json'\n",
    "\n",
    "with open(eval_res, 'r') as f:\n",
    "    eval_res = json.load(f)\n",
    "    "
   ]
  },
  {
   "cell_type": "code",
   "execution_count": 6,
   "metadata": {},
   "outputs": [],
   "source": [
    "sort_id = './datasets/lvis/lvis_sorted_id.json'\n",
    "with open(sort_id, 'r') as f:\n",
    "    sort_id = json.load(f)"
   ]
  },
  {
   "cell_type": "code",
   "execution_count": 12,
   "metadata": {},
   "outputs": [
    {
     "name": "stdout",
     "output_type": "stream",
     "text": [
      "0.03566093451450408\n"
     ]
    }
   ],
   "source": [
    "cls_count = 0\n",
    "cls_all_ap = 0\n",
    "for k,v in eval_res.items():\n",
    "    if v != -1 and (int(k) in sort_id[270+320*2:]):\n",
    "        cls_count+=1\n",
    "        cls_all_ap+=v\n",
    "print(cls_all_ap/cls_count)"
   ]
  },
  {
   "cell_type": "code",
   "execution_count": null,
   "metadata": {},
   "outputs": [],
   "source": []
  }
 ],
 "metadata": {
  "kernelspec": {
   "display_name": "maskrcnn_benchmark",
   "language": "python",
   "name": "maskrcnn_benchmark"
  },
  "language_info": {
   "codemirror_mode": {
    "name": "ipython",
    "version": 3
   },
   "file_extension": ".py",
   "mimetype": "text/x-python",
   "name": "python",
   "nbconvert_exporter": "python",
   "pygments_lexer": "ipython3",
   "version": "3.6.9"
  }
 },
 "nbformat": 4,
 "nbformat_minor": 2
}
